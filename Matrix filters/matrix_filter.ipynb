{
 "cells": [
  {
   "cell_type": "code",
   "execution_count": 326,
   "metadata": {},
   "outputs": [],
   "source": [
    "from PIL import Image, ImageOps\n",
    "import numpy as np\n",
    "import math"
   ]
  },
  {
   "cell_type": "code",
   "execution_count": 327,
   "metadata": {},
   "outputs": [
    {
     "data": {
      "text/plain": [
       "array([[[ 38,  49,  71],\n",
       "        [ 38,  49,  71],\n",
       "        [ 37,  48,  70],\n",
       "        ...,\n",
       "        [ 32,  16,   0],\n",
       "        [ 32,  16,   0],\n",
       "        [ 32,  16,   0]],\n",
       "\n",
       "       [[ 38,  49,  71],\n",
       "        [ 38,  49,  71],\n",
       "        [ 37,  48,  70],\n",
       "        ...,\n",
       "        [ 32,  15,   0],\n",
       "        [ 32,  15,   0],\n",
       "        [ 32,  15,   0]],\n",
       "\n",
       "       [[ 38,  49,  71],\n",
       "        [ 38,  49,  71],\n",
       "        [ 37,  48,  70],\n",
       "        ...,\n",
       "        [ 34,  17,   1],\n",
       "        [ 34,  17,   1],\n",
       "        [ 34,  17,   1]],\n",
       "\n",
       "       ...,\n",
       "\n",
       "       [[161, 118,  73],\n",
       "        [161, 118,  73],\n",
       "        [163, 119,  74],\n",
       "        ...,\n",
       "        [ 19,  21,  18],\n",
       "        [ 19,  21,  18],\n",
       "        [ 19,  21,  18]],\n",
       "\n",
       "       [[152, 109,  64],\n",
       "        [156, 112,  67],\n",
       "        [160, 116,  69],\n",
       "        ...,\n",
       "        [ 19,  21,  18],\n",
       "        [ 19,  21,  18],\n",
       "        [ 19,  21,  18]],\n",
       "\n",
       "       [[150, 106,  59],\n",
       "        [153, 109,  62],\n",
       "        [159, 115,  68],\n",
       "        ...,\n",
       "        [ 19,  21,  18],\n",
       "        [ 19,  21,  18],\n",
       "        [ 19,  21,  18]]], dtype=uint8)"
      ]
     },
     "execution_count": 327,
     "metadata": {},
     "output_type": "execute_result"
    }
   ],
   "source": [
    "img = Image.open(\"cat.jpeg\")\n",
    "image = np.array(img)\n",
    "image"
   ]
  },
  {
   "cell_type": "code",
   "execution_count": 328,
   "metadata": {},
   "outputs": [],
   "source": [
    "def clotting (image, kernel, stride_x=1, stride_y=1):\n",
    "    mx = len(image)\n",
    "    my = len(image[0])\n",
    "    kx = len(kernel)\n",
    "    ky = len(kernel[0])\n",
    "    \n",
    "    res_image = []\n",
    "    r_sum = 0\n",
    "    g_sum = 0\n",
    "    b_sum = 0\n",
    "    \n",
    "    res_i = 0\n",
    "    \n",
    "    #image = np.pad(img, ((top_pad, bottom_pad), (left_pad, right_pad), (0, 0))\n",
    "    image_pd = np.pad(image, ((math.floor((ky-1)/2), math.floor((ky-1)/2)), (math.floor((kx-1)/2), math.floor((kx-1)/2)), (0, 0)))\n",
    "                 \n",
    "    mx_pd = len(image_pd)\n",
    "    my_pd = len(image_pd[0])\n",
    "    \n",
    "    for mi in range(0, mx_pd-kx+1, stride_x):\n",
    "        res_image.append([])\n",
    "        for mj in range(0, my_pd-ky+1, stride_y):\n",
    "            for i in range(kx):\n",
    "                for j in range(ky):\n",
    "                    r_sum += kernel[i][j] * image_pd[mi+i][mj+j][0]\n",
    "                    g_sum += kernel[i][j] * image_pd[mi+i][mj+j][1]\n",
    "                    b_sum += kernel[i][j] * image_pd[mi+i][mj+j][2] \n",
    "            \n",
    "            if r_sum > 255: r_sum = 255\n",
    "            if g_sum > 255: g_sum = 255   \n",
    "            if b_sum > 255: b_sum = 255\n",
    "            \n",
    "            if r_sum < 0: r_sum = 0\n",
    "            if g_sum < 0: g_sum = 0   \n",
    "            if b_sum < 0: b_sum = 0\n",
    "            \n",
    "            res_image[res_i].append([r_sum, g_sum, b_sum])\n",
    "            r_sum = 0\n",
    "            g_sum = 0\n",
    "            b_sum = 0\n",
    "        res_i += 1\n",
    "    \n",
    "    return np.array(res_image)"
   ]
  },
  {
   "cell_type": "code",
   "execution_count": 329,
   "metadata": {},
   "outputs": [],
   "source": [
    "# увеличение контрастности\n",
    "kernel_c1 = np.array([[0, -1, 0], \n",
    "                      [-1, 5, -1], \n",
    "                      [0, -1, 0]])"
   ]
  },
  {
   "cell_type": "code",
   "execution_count": 330,
   "metadata": {},
   "outputs": [],
   "source": [
    "kernel_c2 = np.array([[-1, -1, -1], \n",
    "                      [-1, 9, -1], \n",
    "                      [-1, -1, -1]])"
   ]
  },
  {
   "cell_type": "code",
   "execution_count": 331,
   "metadata": {},
   "outputs": [],
   "source": [
    "kernel_c3 = np.array([[-1, -2, -1], \n",
    "                      [-2, 13, -2], \n",
    "                      [-1, -2, -1]])"
   ]
  },
  {
   "cell_type": "code",
   "execution_count": 332,
   "metadata": {},
   "outputs": [],
   "source": [
    "kernel_c4 = np.array([[-2, -2, -2], \n",
    "                      [-2, 17, -2], \n",
    "                      [-2, -2, -2]])"
   ]
  },
  {
   "cell_type": "code",
   "execution_count": 333,
   "metadata": {},
   "outputs": [],
   "source": [
    "kernel_c5 = np.array([[-3, -3, -3], \n",
    "                      [-3, 25, -3], \n",
    "                      [-3, -3, -3]])"
   ]
  },
  {
   "cell_type": "code",
   "execution_count": 334,
   "metadata": {},
   "outputs": [],
   "source": [
    "kernel_c6 = np.array([[0, -2, 0], \n",
    "                      [-2, 9, -2], \n",
    "                      [0, -2, 0]])"
   ]
  },
  {
   "cell_type": "code",
   "execution_count": 335,
   "metadata": {},
   "outputs": [],
   "source": [
    "kernel_c7 = np.array([[0, -3, 0], \n",
    "                      [-3, 13, -3], \n",
    "                      [0, -3, 0]])"
   ]
  },
  {
   "cell_type": "code",
   "execution_count": 336,
   "metadata": {},
   "outputs": [],
   "source": [
    "# размытие\n",
    "kernel_b1 = np.array([[1/9, 1/9, 1/9], \n",
    "                      [1/9, 1/9, 1/9], \n",
    "                      [1/9, 1/9, 1/9]])"
   ]
  },
  {
   "cell_type": "code",
   "execution_count": 337,
   "metadata": {},
   "outputs": [],
   "source": [
    "kernel_b2 = np.array([[1/25, 1/25, 1/25, 1/25, 1/25],\n",
    "                      [1/25, 1/25, 1/25, 1/25, 1/25],\n",
    "                      [1/25, 1/25, 1/25, 1/25, 1/25],\n",
    "                      [1/25, 1/25, 1/25, 1/25, 1/25],\n",
    "                      [1/25, 1/25, 1/25, 1/25, 1/25]   \n",
    "])"
   ]
  },
  {
   "cell_type": "code",
   "execution_count": 338,
   "metadata": {},
   "outputs": [],
   "source": [
    "new_image = clotting(image, kernel_c7)"
   ]
  },
  {
   "cell_type": "code",
   "execution_count": 339,
   "metadata": {},
   "outputs": [
    {
     "data": {
      "text/plain": [
       "150975"
      ]
     },
     "execution_count": 339,
     "metadata": {},
     "output_type": "execute_result"
    }
   ],
   "source": [
    "image.size"
   ]
  },
  {
   "cell_type": "code",
   "execution_count": 340,
   "metadata": {},
   "outputs": [
    {
     "data": {
      "text/plain": [
       "150975"
      ]
     },
     "execution_count": 340,
     "metadata": {},
     "output_type": "execute_result"
    }
   ],
   "source": [
    "new_image.size"
   ]
  },
  {
   "cell_type": "code",
   "execution_count": 341,
   "metadata": {},
   "outputs": [],
   "source": [
    "im = Image.fromarray(new_image.astype('uint8'))\n",
    "im.save(\"c7.jpeg\")"
   ]
  }
 ],
 "metadata": {
  "kernelspec": {
   "display_name": "Python 3.8.8 64-bit",
   "language": "python",
   "name": "python3"
  },
  "language_info": {
   "codemirror_mode": {
    "name": "ipython",
    "version": 3
   },
   "file_extension": ".py",
   "mimetype": "text/x-python",
   "name": "python",
   "nbconvert_exporter": "python",
   "pygments_lexer": "ipython3",
   "version": "3.8.8"
  },
  "orig_nbformat": 4,
  "vscode": {
   "interpreter": {
    "hash": "7368f20aefac5f24c1a8fc341ad5f2a29f6a6dd421bfcd22c63ddf9de72c2216"
   }
  }
 },
 "nbformat": 4,
 "nbformat_minor": 2
}
