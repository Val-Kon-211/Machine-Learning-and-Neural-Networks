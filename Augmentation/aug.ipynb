{
 "cells": [
  {
   "cell_type": "code",
   "execution_count": 147,
   "metadata": {},
   "outputs": [],
   "source": [
    "from PIL import Image\n",
    "import numpy as np\n",
    "import matplotlib.pyplot as plt\n",
    "import os\n",
    "import math\n",
    "import random"
   ]
  },
  {
   "cell_type": "code",
   "execution_count": null,
   "metadata": {},
   "outputs": [],
   "source": []
  },
  {
   "cell_type": "code",
   "execution_count": 150,
   "metadata": {},
   "outputs": [],
   "source": [
    "def shifting_left(img):\n",
    "    dx = random.randint(-20, -10)\n",
    "    X = np.roll(img, dx, axis=1)\n",
    "    if dx > 0:\n",
    "        X[:, :dx] = 0\n",
    "    elif dx < 0:\n",
    "        X[:, dx:] = 0\n",
    "    \n",
    "    return X"
   ]
  },
  {
   "cell_type": "code",
   "execution_count": 151,
   "metadata": {},
   "outputs": [],
   "source": [
    "def shifting_right(img):\n",
    "    dx = random.randint(10, 20)\n",
    "    X = np.roll(img, dx, axis=1)\n",
    "    if dx > 0:\n",
    "        X[:, :dx] = 0\n",
    "    elif dx < 0:\n",
    "        X[:, dx:] = 0\n",
    "    \n",
    "    return X"
   ]
  },
  {
   "cell_type": "code",
   "execution_count": 152,
   "metadata": {},
   "outputs": [],
   "source": [
    "def shifting_up(img):\n",
    "    dy = random.randint(-20, -10)\n",
    "    X = np.roll(img, dy, axis=0)\n",
    "    if dy > 0:\n",
    "        X[:, :dy] = 0\n",
    "    elif dy < 0:\n",
    "        X[:, dy:] = 0\n",
    "    \n",
    "    return X"
   ]
  },
  {
   "cell_type": "code",
   "execution_count": 153,
   "metadata": {},
   "outputs": [],
   "source": [
    "def shifting_down(img):\n",
    "    dy = random.randint(10, 20)\n",
    "    X = np.roll(img, dy, axis=0)\n",
    "    if dy > 0:\n",
    "        X[:, :dy] = 0\n",
    "    elif dy < 0:\n",
    "        X[:, dy:] = 0\n",
    "    \n",
    "    return X"
   ]
  },
  {
   "cell_type": "code",
   "execution_count": 154,
   "metadata": {},
   "outputs": [],
   "source": [
    "def adding_noise(img, prob=0.05):\n",
    "    output = np.zeros(img.shape,np.uint8)\n",
    "    thres = 1 - prob \n",
    "    for i in range(img.shape[0]):\n",
    "        for j in range(img.shape[1]):\n",
    "            rdn = random.random()\n",
    "            if rdn < prob:\n",
    "                output[i][j] = 0\n",
    "            elif rdn > thres:\n",
    "                output[i][j] = 255\n",
    "            else:\n",
    "                output[i][j] = img[i][j]\n",
    "    return output"
   ]
  },
  {
   "cell_type": "code",
   "execution_count": 155,
   "metadata": {},
   "outputs": [],
   "source": [
    "def rotate_img(img):\n",
    "    im = Image.fromarray(img.astype('uint8'))\n",
    "    s = random.randint(10, 180)\n",
    "    im_rotate = im.rotate(s)\n",
    "    result = np.array(im_rotate)\n",
    "    \n",
    "    return result"
   ]
  },
  {
   "cell_type": "code",
   "execution_count": 156,
   "metadata": {},
   "outputs": [],
   "source": [
    "# список папок: 4 вариант\n",
    "animals = [\"ailuropoda-melanoleuca\", \"ailurus-fulgens\", \"bradypus-variegatus\", \"felis-catus\", \"gorilla-gorilla\", \"homo-sapiens\", \\\n",
    "            \"lemur-catta\", \"martes-americana\", \"phascolarctos-cinereus\", \"pongo-abelii\", \"procyon-lotor\", \"tarsius-pumilus\", \\\n",
    "            \"ursus-arctos-horribilis\", \"ursus-maritimus\", \"vulpes-vulpes\"]\n",
    "\n",
    "# создаём директорию для записи результатов\n",
    "res_path = os.path.abspath(os.getcwd()) + '\\\\results'\n",
    "if not os.path.isdir(res_path):\n",
    "    os.mkdir(res_path)"
   ]
  },
  {
   "cell_type": "code",
   "execution_count": 157,
   "metadata": {},
   "outputs": [],
   "source": [
    "def augmentation(folder, nGoal):\n",
    "    n = 0                                                                # начальное количество изображений в папке\n",
    "    path = os.path.abspath(os.getcwd()) + \"\\dataset\" + \"\\\\\" + folder     # путь к директории с папками\n",
    "    result_path = os.path.abspath(os.getcwd()) + '\\\\results\\\\' + folder  # путь до директории с резульататами\n",
    "    if not os.path.isdir(result_path):\n",
    "        os.mkdir(result_path)                                            # создаём папку для записи результатов\n",
    "    \n",
    "    for file in os.listdir(path):\n",
    "        n += 1\n",
    "    \n",
    "    numOfTransform = math.ceil((nGoal - n) / n)    # количество преобразований для одного изображения\n",
    "    m = 1\n",
    "    iterNum = 2\n",
    "    \n",
    "    for file in os.listdir(path):\n",
    "        image = Image.open(path + \"\\\\\" + file)\n",
    "        image.save(result_path + \"\\\\\" + file)\n",
    "        \n",
    "        image = np.array(image)\n",
    "        newImage = image\n",
    "        \n",
    "        for _ in range(iterNum):\n",
    "            newImage = image\n",
    "            \n",
    "            # определяем преобразования\n",
    "            transformations = {\n",
    "                shifting_up: 1,\n",
    "                shifting_right: 1,\n",
    "                rotate_img: 1,\n",
    "                shifting_left: 1,\n",
    "                shifting_down: 1,\n",
    "                adding_noise: 0.9\n",
    "            }\n",
    "            \n",
    "            for _ in range(numOfTransform//iterNum):\n",
    "                maxWeight = max(transformations.values())\n",
    "                \n",
    "                for func, weight in transformations.items():\n",
    "                    if weight == maxWeight:\n",
    "                        curFunc = func\n",
    "                        break\n",
    "                \n",
    "                newImage = curFunc(newImage)\n",
    "                newIm = Image.fromarray(newImage.astype('uint8'))\n",
    "                newIm.save(result_path + \"\\\\\" + str(m) + '.jpg')\n",
    "                transformations[curFunc] *= 0.9\n",
    "                m += 1"
   ]
  },
  {
   "cell_type": "code",
   "execution_count": 158,
   "metadata": {},
   "outputs": [],
   "source": [
    "for folder in animals:\n",
    "    augmentation(folder, 1000)"
   ]
  }
 ],
 "metadata": {
  "kernelspec": {
   "display_name": "Python 3.8.8 64-bit",
   "language": "python",
   "name": "python3"
  },
  "language_info": {
   "codemirror_mode": {
    "name": "ipython",
    "version": 3
   },
   "file_extension": ".py",
   "mimetype": "text/x-python",
   "name": "python",
   "nbconvert_exporter": "python",
   "pygments_lexer": "ipython3",
   "version": "3.8.8"
  },
  "orig_nbformat": 4,
  "vscode": {
   "interpreter": {
    "hash": "7368f20aefac5f24c1a8fc341ad5f2a29f6a6dd421bfcd22c63ddf9de72c2216"
   }
  }
 },
 "nbformat": 4,
 "nbformat_minor": 2
}
